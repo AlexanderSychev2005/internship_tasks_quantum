{
 "cells": [
  {
   "cell_type": "markdown",
   "id": "5685fef3-9147-4b8a-810f-541a2a43964b",
   "metadata": {},
   "source": [
    "# Dataset Preparation"
   ]
  },
  {
   "cell_type": "markdown",
   "id": "8e710b21-e944-4eb1-b9ec-475bdc5776d3",
   "metadata": {},
   "source": [
    "In this notebook we import dataset 'Deforestation in Ukraine from Sentinel2 data' from Kaggle. Then, we copy all \"..._TCI.jp2\" files to the dataset folder in our project."
   ]
  },
  {
   "cell_type": "markdown",
   "id": "f2ee5e49-895a-4103-b350-ad476b8204eb",
   "metadata": {},
   "source": [
    "### Importing libraries"
   ]
  },
  {
   "cell_type": "code",
   "execution_count": 5,
   "id": "9ed9fb9b-75f7-4f12-81de-affbe5712d02",
   "metadata": {},
   "outputs": [
    {
     "name": "stderr",
     "output_type": "stream",
     "text": [
      "C:\\Users\\Alex\\Desktop\\internship_tasks_2\\task2\\.venv\\Lib\\site-packages\\tqdm\\auto.py:21: TqdmWarning: IProgress not found. Please update jupyter and ipywidgets. See https://ipywidgets.readthedocs.io/en/stable/user_install.html\n",
      "  from .autonotebook import tqdm as notebook_tqdm\n"
     ]
    }
   ],
   "source": [
    "import os\n",
    "import kagglehub\n",
    "import shutil\n",
    "from pathlib import Path"
   ]
  },
  {
   "cell_type": "markdown",
   "id": "c6e93208-dd3b-42e3-b145-f225a1ef5bd3",
   "metadata": {},
   "source": [
    "### Downloading dataset from Kaggle"
   ]
  },
  {
   "cell_type": "code",
   "execution_count": 6,
   "id": "initial_id",
   "metadata": {},
   "outputs": [
    {
     "name": "stdout",
     "output_type": "stream",
     "text": [
      "Path to dataset files: C:\\Users\\Alex\\.cache\\kagglehub\\datasets\\isaienkov\\deforestation-in-ukraine\\versions\\1\n"
     ]
    }
   ],
   "source": [
    "kaggle_dataset_path = kagglehub.dataset_download(\"isaienkov/deforestation-in-ukraine\")\n",
    "kaggle_dataset_path = Path(kaggle_dataset_path)\n",
    "print(\"Path to dataset files:\", kaggle_dataset_path)"
   ]
  },
  {
   "cell_type": "markdown",
   "id": "bdc75ee1-9001-4adf-9634-ca725dcd2875",
   "metadata": {},
   "source": [
    "### Creating dataset folder if it does not exist"
   ]
  },
  {
   "cell_type": "code",
   "execution_count": 7,
   "id": "496b8452-95e9-4aaf-88d6-6b36278f10f6",
   "metadata": {},
   "outputs": [],
   "source": [
    "dataset_dir = Path(\"./dataset\")"
   ]
  },
  {
   "cell_type": "code",
   "execution_count": 8,
   "id": "ecece912-3379-4ff6-ba51-751bb278e44f",
   "metadata": {},
   "outputs": [],
   "source": [
    "dataset_dir.mkdir(exist_ok=True)"
   ]
  },
  {
   "cell_type": "code",
   "execution_count": 9,
   "id": "211c4de2-f85d-497f-8948-9336be479e1e",
   "metadata": {},
   "outputs": [],
   "source": [
    "search_pattern = \"**/*_TCI.jp2\" # ** in all subfolders"
   ]
  },
  {
   "cell_type": "code",
   "execution_count": 10,
   "id": "dfd47263-5f20-4fef-b36f-d72db1611f8f",
   "metadata": {},
   "outputs": [],
   "source": [
    "image_paths_list = list(kaggle_dataset_path.rglob(search_pattern))"
   ]
  },
  {
   "cell_type": "code",
   "execution_count": 11,
   "id": "0edb2555-3890-4545-9bee-d6b287afb5b8",
   "metadata": {},
   "outputs": [
    {
     "data": {
      "text/plain": [
       "50"
      ]
     },
     "execution_count": 11,
     "metadata": {},
     "output_type": "execute_result"
    }
   ],
   "source": [
    "len(image_paths_list) # We have 50 images"
   ]
  },
  {
   "cell_type": "markdown",
   "id": "d2d72c37-4056-4a19-aa0d-a3e3f76ba32a",
   "metadata": {},
   "source": [
    "### Copying all files to the dataset folder in our project"
   ]
  },
  {
   "cell_type": "code",
   "execution_count": 63,
   "id": "5a8c03f4-e4f3-4f92-8690-001d68704b45",
   "metadata": {},
   "outputs": [
    {
     "name": "stdout",
     "output_type": "stream",
     "text": [
      "Copying T36UYA_20160212T084052_TCI.jp2...\n",
      "Copying T36UYA_20160330T082542_TCI.jp2...\n",
      "Copying T36UYA_20160405T085012_TCI.jp2...\n",
      "Copying T36UYA_20160502T083602_TCI.jp2...\n",
      "Copying T36UYA_20160509T082612_TCI.jp2...\n",
      "Copying T36UYA_20160618T082602_TCI.jp2...\n",
      "Copying T36UYA_20160621T084012_TCI.jp2...\n",
      "Copying T36UYA_20160830T083602_TCI.jp2...\n",
      "Copying T36UYA_20161026T083032_TCI.jp2...\n",
      "Copying T36UYA_20161121T085252_TCI.jp2...\n",
      "Copying T36UYA_20161205T083332_TCI.jp2...\n",
      "Copying T36UXA_20180731T083601_TCI.jp2...\n",
      "Copying T36UXA_20180810T083601_TCI.jp2...\n",
      "Copying T36UXA_20180820T083601_TCI.jp2...\n",
      "Copying T36UXA_20180830T083601_TCI.jp2...\n",
      "Copying T36UXA_20180919T083621_TCI.jp2...\n",
      "Copying T36UYA_20190318T083701_TCI.jp2...\n",
      "Copying T36UYA_20190328T084011_TCI.jp2...\n",
      "Copying T36UYA_20190407T083601_TCI.jp2...\n",
      "Copying T36UYA_20190417T083601_TCI.jp2...\n",
      "Copying T36UXA_20190427T083601_TCI.jp2...\n",
      "Copying T36UYA_20190427T083601_TCI.jp2...\n",
      "Copying T36UYA_20190517T083601_TCI.jp2...\n",
      "Copying T36UXA_20190606T083601_TCI.jp2...\n",
      "Copying T36UYA_20190606T083601_TCI.jp2...\n",
      "Copying T36UYA_20190616T083601_TCI.jp2...\n",
      "Copying T36UYA_20190626T083601_TCI.jp2...\n",
      "Copying T36UYA_20190706T083611_TCI.jp2...\n",
      "Copying T36UYA_20190726T083611_TCI.jp2...\n",
      "Copying T36UYA_20190805T083601_TCI.jp2...\n",
      "Copying T36UYA_20190815T083601_TCI.jp2...\n",
      "Copying T36UYA_20190825T083601_TCI.jp2...\n",
      "Copying T36UYA_20190904T083601_TCI.jp2...\n",
      "Copying T36UXA_20180726T084009_TCI.jp2...\n",
      "Copying T36UXA_20180805T083559_TCI.jp2...\n",
      "Copying T36UXA_20180815T084009_TCI.jp2...\n",
      "Copying T36UXA_20180825T083549_TCI.jp2...\n",
      "Copying T36UXA_20180904T083549_TCI.jp2...\n",
      "Copying T36UYA_20190313T083739_TCI.jp2...\n",
      "Copying T36UYA_20190402T083559_TCI.jp2...\n",
      "Copying T36UYA_20190412T083609_TCI.jp2...\n",
      "Copying T36UYA_20190422T083609_TCI.jp2...\n",
      "Copying T36UYA_20190601T083609_TCI.jp2...\n",
      "Copying T36UYA_20190611T083609_TCI.jp2...\n",
      "Copying T36UYA_20190621T083609_TCI.jp2...\n",
      "Copying T36UYA_20190701T083609_TCI.jp2...\n",
      "Copying T36UYA_20190721T083609_TCI.jp2...\n",
      "Copying T36UYA_20190810T083609_TCI.jp2...\n",
      "Copying T36UYA_20190830T083609_TCI.jp2...\n",
      "Copying T36UYA_20190909T083559_TCI.jp2...\n",
      "Copying complete.\n"
     ]
    }
   ],
   "source": [
    "for src_path in image_paths_list:\n",
    "    dst_path = dataset_dir / src_path.name\n",
    "    \n",
    "    if not dst_path.exists():\n",
    "        print(f\"Copying {src_path.name}...\")\n",
    "        shutil.copy(src_path, dst_path)\n",
    "    else:\n",
    "        print(f\"Skipping {src_path.name}, already exists.\")\n",
    "\n",
    "print(\"Copying complete.\")"
   ]
  },
  {
   "cell_type": "code",
   "execution_count": null,
   "id": "99489255-f38b-41c9-baed-81480a46784d",
   "metadata": {},
   "outputs": [],
   "source": []
  },
  {
   "cell_type": "code",
   "execution_count": null,
   "id": "c634d58d-9263-4911-a4b6-6da361d24ccb",
   "metadata": {},
   "outputs": [],
   "source": []
  },
  {
   "cell_type": "code",
   "execution_count": null,
   "id": "0052edc3-f3bb-42c6-b845-757d26e0956e",
   "metadata": {},
   "outputs": [],
   "source": []
  }
 ],
 "metadata": {
  "kernelspec": {
   "display_name": "Task 2",
   "language": "python",
   "name": "task_2l"
  },
  "language_info": {
   "codemirror_mode": {
    "name": "ipython",
    "version": 3
   },
   "file_extension": ".py",
   "mimetype": "text/x-python",
   "name": "python",
   "nbconvert_exporter": "python",
   "pygments_lexer": "ipython3",
   "version": "3.12.4"
  }
 },
 "nbformat": 4,
 "nbformat_minor": 5
}
